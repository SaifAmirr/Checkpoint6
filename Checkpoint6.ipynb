{
 "cells": [
  {
   "cell_type": "code",
   "execution_count": 4,
   "id": "29c32652",
   "metadata": {},
   "outputs": [
    {
     "name": "stdout",
     "output_type": "stream",
     "text": [
      "[[1, 2], [3, 4]]\n"
     ]
    }
   ],
   "source": [
    "import numpy as np #Question 1 \n",
    "tab=np.array([[1,2],[3,4]])\n",
    "print(tab.tolist())"
   ]
  },
  {
   "cell_type": "code",
   "execution_count": 12,
   "id": "e479c53e",
   "metadata": {},
   "outputs": [
    {
     "name": "stdout",
     "output_type": "stream",
     "text": [
      "15\n"
     ]
    }
   ],
   "source": [
    "#Question 2 \n",
    "import numpy as np\n",
    "x=np.array([[1,2,3],[4,5,6],[7,8,9]])\n",
    "A= x[0,0]\n",
    "B= x[2,2]\n",
    "C = x[1,1]\n",
    "Z = A + B + C\n",
    "print(Z)"
   ]
  },
  {
   "cell_type": "code",
   "execution_count": 25,
   "id": "e264eaf8",
   "metadata": {},
   "outputs": [
    {
     "name": "stdout",
     "output_type": "stream",
     "text": [
      "3\n",
      "[5] are higher than 3\n"
     ]
    }
   ],
   "source": [
    "#Question 3 \n",
    "import numpy as np\n",
    "x = int(input())\n",
    "a = np.array([[1,2],[3,5]])\n",
    "if x>=5:\n",
    "    print(\"No elements higher than 5\")\n",
    "else:\n",
    "    newArr =  a[a > x]\n",
    "print(newArr, \"are higher than\", x)\n",
    "\n",
    "        \n",
    "        \n",
    "\n"
   ]
  },
  {
   "cell_type": "code",
   "execution_count": 26,
   "id": "7fbbbae5",
   "metadata": {},
   "outputs": [
    {
     "name": "stdout",
     "output_type": "stream",
     "text": [
      "[[10 10 10]\n",
      " [10 10 10]\n",
      " [10 10 10]]\n"
     ]
    }
   ],
   "source": [
    "#Question 4 \n",
    "import numpy as np\n",
    "A=np.array([[1,2,3],[4,5,6],[7,8,9]])\n",
    "B=np.array([[9,8,7],[6,5,4],[3,2,1]])\n",
    "C = A + B\n",
    "print(C)"
   ]
  },
  {
   "cell_type": "code",
   "execution_count": 38,
   "id": "b17b2001",
   "metadata": {},
   "outputs": [
    {
     "name": "stdout",
     "output_type": "stream",
     "text": [
      "[[-1. -3. -5.]\n",
      " [ 2.  0. -2.]\n",
      " [ 5.  3.  1.]]\n"
     ]
    }
   ],
   "source": [
    "#Question 5 \n",
    "import numpy as np\n",
    "A=np.array([[1,2,3],\n",
    "            [4,5,6],\n",
    "            [7,8,9]])  \n",
    "Y = A - A.mean(axis=1) #Subtracting the mean of each row from the elements; (subtracting [2,5,8]) from each row\n",
    "print(Y)\n"
   ]
  },
  {
   "cell_type": "code",
   "execution_count": null,
   "id": "3e249e3a",
   "metadata": {},
   "outputs": [],
   "source": []
  }
 ],
 "metadata": {
  "kernelspec": {
   "display_name": "Python 3 (ipykernel)",
   "language": "python",
   "name": "python3"
  },
  "language_info": {
   "codemirror_mode": {
    "name": "ipython",
    "version": 3
   },
   "file_extension": ".py",
   "mimetype": "text/x-python",
   "name": "python",
   "nbconvert_exporter": "python",
   "pygments_lexer": "ipython3",
   "version": "3.9.7"
  }
 },
 "nbformat": 4,
 "nbformat_minor": 5
}
